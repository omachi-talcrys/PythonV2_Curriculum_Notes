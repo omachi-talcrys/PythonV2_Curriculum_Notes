{
 "cells": [
  {
   "cell_type": "markdown",
   "metadata": {},
   "source": [
    "# Operators Assignment\n"
   ]
  },
  {
   "cell_type": "markdown",
   "metadata": {},
   "source": [
    "## Exercise 1: Arithmetic Operations\n",
    "\n",
    "Arithmetic operations are fundamental in programming as they allow us to perform mathematical calculations.\n",
    "\n",
    "- **Task 1.1:** Add the numbers `25` and `75` together using the `+` operator and print the result. This will help you practice using addition in Python.\n",
    "\n",
    "  Example:\n",
    "\n",
    "  ```python\n",
    "  sum_result = 25 + 75\n",
    "  print(sum_result)\n",
    "  ```\n",
    "\n",
    "- **Task 1.2:** Multiply the numbers `7` and `6` using the `*` operator and display the outcome with `print()`. This exercise will reinforce your understanding of multiplication in Python.\n"
   ]
  },
  {
   "cell_type": "code",
   "execution_count": null,
   "metadata": {},
   "outputs": [],
   "source": [
    "# Task 1.1"
   ]
  },
  {
   "cell_type": "code",
   "execution_count": null,
   "metadata": {},
   "outputs": [],
   "source": [
    "# Task 1.2"
   ]
  },
  {
   "cell_type": "markdown",
   "metadata": {},
   "source": [
    "## Exercise 2: Boolean Expressions\n",
    "\n",
    "Boolean expressions evaluate to either `True` or `False`. They are essential in decision-making and control flow in programs.\n",
    "\n",
    "- **Task 2.1:** Use the `>` operator to check if `15` is greater than `10` and print the result. This will familiarize you with comparison operators.\n",
    "- **Task 2.2:** Use the `==` operator to compare whether `20` is equal to `20` and print the resulting Boolean value.\n"
   ]
  },
  {
   "cell_type": "code",
   "execution_count": null,
   "metadata": {},
   "outputs": [],
   "source": [
    "# Task 2.1"
   ]
  },
  {
   "cell_type": "code",
   "execution_count": null,
   "metadata": {},
   "outputs": [],
   "source": [
    "# Task 2.2"
   ]
  },
  {
   "cell_type": "markdown",
   "metadata": {},
   "source": [
    "## Exercise 3: Logical Operations\n",
    "\n",
    "Logical operations combine or modify boolean expressions and are crucial in constructing complex conditions.\n",
    "\n",
    "- **Task 3.1:** Use the logical `and` operator to determine whether both `10` is greater than `5` and `15` is less than `20`. Print the result. This will show you how to combine multiple conditions.\n",
    "\n",
    "  Example:\n",
    "\n",
    "  ```python\n",
    "  logical_and_result = (10 > 5) and (15 < 20)\n",
    "  print(logical_and_result)\n",
    "  ```\n",
    "\n",
    "- **Task 3.2:** Apply the `not` operator to invert the result of the expression `5 == 5` and print the outcome. This exercise will demonstrate how to reverse a boolean value.\n"
   ]
  },
  {
   "cell_type": "code",
   "execution_count": null,
   "metadata": {},
   "outputs": [],
   "source": [
    "# Task 3.1"
   ]
  },
  {
   "cell_type": "code",
   "execution_count": null,
   "metadata": {},
   "outputs": [],
   "source": [
    "# Task 3.2"
   ]
  },
  {
   "cell_type": "markdown",
   "metadata": {},
   "source": [
    "## Additional Challenges\n",
    "\n",
    "To further your understanding, try the following challenges:\n",
    "\n",
    "- **Challenge 1:** Calculate the average of three numbers: `23`, `35`, and `46`. Print the average with a descriptive message.\n",
    "- **Challenge 2:** Determine whether `100` is divisible by `3` and not equal to `10`. Use arithmetic and logical operators to find the result and explain your reasoning in a comment.\n"
   ]
  },
  {
   "cell_type": "code",
   "execution_count": null,
   "metadata": {},
   "outputs": [],
   "source": [
    "# Challenge 1"
   ]
  },
  {
   "cell_type": "code",
   "execution_count": null,
   "metadata": {},
   "outputs": [],
   "source": [
    "# Challenge 2"
   ]
  },
  {
   "cell_type": "markdown",
   "metadata": {},
   "source": [
    "## Reflection\n",
    "\n",
    "Reflect on the following questions after completing the exercises:\n",
    "\n",
    "- What types of problems can be solved more efficiently by using arithmetic, boolean, and logical operations?\n",
    "- How do these operations interact with each other when used in combination?\n",
    "- Provide an example of a real-life situation where you could use these operations.\n"
   ]
  },
  {
   "cell_type": "markdown",
   "metadata": {},
   "source": []
  }
 ],
 "metadata": {
  "language_info": {
   "name": "python"
  }
 },
 "nbformat": 4,
 "nbformat_minor": 2
}
