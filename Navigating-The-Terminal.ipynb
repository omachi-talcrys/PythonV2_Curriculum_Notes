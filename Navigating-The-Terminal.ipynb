{
 "cells": [
  {
   "cell_type": "markdown",
   "metadata": {},
   "source": [
    "# Navigating The Terminal\n",
    "\n",
    "## Introduction\n",
    "\n",
    "This lecture focuses on the Terminal, an essential software development tool in Windows and macOS. Understanding how to use the Terminal effectively is crucial for executing commands and managing files, regardless of the operating system.\n",
    "\n",
    "## Key Concepts in Terminal Usage\n",
    "\n",
    "### The Shell vs. The Terminal Emulator\n",
    "\n",
    "- **The Shell**: A command interpreter, like Bash in Unix/Linux systems and PowerShell in Windows.\n",
    "- **The Terminal Emulator**: Applications like Git Bash on Windows or Terminal on macOS provide shell access.\n",
    "- **Naming Overlap**: Sometimes, the terminal emulator and the shell may share names, but their functions are distinct.\n",
    "- **Naming Overlap Examples**:\n",
    "   - **Git Bash (Emulator) and Bash (Shell)**: In Windows, Git Bash is the terminal emulator that provides access to the Bash shell.\n",
    "    - **PowerShell (Both)**: The term \"PowerShell\" is commonly used to refer to both the shell itself and the terminal emulator (known as the PowerShell Console) in Windows.\n",
    "   - **Terminal (Emulator) and Bash (Shell) on macOS**: The macOS Terminal is the emulator through which users access the ZSH shell.\n",
    "\n",
    "### File Paths and Their Relevance in Python\n",
    "\n",
    "- **Absolute Paths**: Specify an exact location from the root, such as `/Users/username/Documents` on macOS or `C:\\Users\\username\\Documents` on Windows.\n",
    "- **Relative Paths**: Paths relative to the current directory. For instance, if you have an image in your project's `media/` folder and are currently at the project root, the relative path to the image would be `media/image.jpg`.\n",
    "- **Using `pwd`**: This command is vital for understanding your current directory's path, which is crucial for relative imports and file referencing in Python.\n",
    "\n",
    "### Understanding SUDO\n",
    "\n",
    "- **Purpose of SUDO**: In Unix-like systems, it executes commands with administrative privileges.\n",
    "- **Relevance for Windows Users**: In Git Bash, `sudo` is not emulated. Run Git Bash as an administrator for similar functionality.\n",
    "- **Relevance for macOS Users**: `sudo` can be used in macOS for tasks requiring higher permissions.\n",
    "\n",
    "## Terminal: Basic Commands\n",
    "\n",
    "### Basic Navigation and File Management\n",
    "\n",
    "- `pwd`: Prints the current directory's path."
   ]
  },
  {
   "cell_type": "code",
   "execution_count": 1,
   "metadata": {
    "vscode": {
     "languageId": "shellscript"
    }
   },
   "outputs": [
    {
     "name": "stdout",
     "output_type": "stream",
     "text": [
      "/Users/brandongottshall/Development/Repos/Work/Nebula/curriculumDevelopment/python-curriculum/Module-1-Introduction-To-Python-Programming/Lesson-3-Github-and-Terminal/Topic-1-Navigating-The-Terminal/Lecture\n"
     ]
    }
   ],
   "source": [
    "# The ! is a magic command that allows you to run bash commands from within a notebook cell\n",
    "!pwd"
   ]
  },
  {
   "cell_type": "markdown",
   "metadata": {},
   "source": [
    "- `ls`: Lists files and directories in the current directory."
   ]
  },
  {
   "cell_type": "code",
   "execution_count": 22,
   "metadata": {
    "vscode": {
     "languageId": "shellscript"
    }
   },
   "outputs": [
    {
     "name": "stdout",
     "output_type": "stream",
     "text": [
      "\u001b[1m\u001b[36mLecture\u001b[m\u001b[m  \u001b[1m\u001b[36mPractice\u001b[m\u001b[m\n"
     ]
    }
   ],
   "source": [
    "!ls"
   ]
  },
  {
   "cell_type": "markdown",
   "metadata": {},
   "source": [
    "- `cd`: Changes the directory."
   ]
  },
  {
   "cell_type": "code",
   "execution_count": 25,
   "metadata": {
    "vscode": {
     "languageId": "shellscript"
    }
   },
   "outputs": [
    {
     "name": "stdout",
     "output_type": "stream",
     "text": [
      "\u001b[1m\u001b[36mLecture\u001b[m\u001b[m  \u001b[1m\u001b[36mPractice\u001b[m\u001b[m\n"
     ]
    }
   ],
   "source": [
    "# Go up one level\n",
    "!cd ..\n",
    "!ls\n",
    "\n",
    "# Go back to the previous directory\n",
    "!cd -"
   ]
  },
  {
   "cell_type": "code",
   "execution_count": null,
   "metadata": {
    "vscode": {
     "languageId": "shellscript"
    }
   },
   "outputs": [],
   "source": [
    "# Go to the root directory\n",
    "!cd /\n",
    "!pwd\n",
    "\n",
    "# Go back to the previous directory\n",
    "!cd -"
   ]
  },
  {
   "cell_type": "code",
   "execution_count": null,
   "metadata": {
    "vscode": {
     "languageId": "shellscript"
    }
   },
   "outputs": [],
   "source": [
    "# Go to the home directory\n",
    "!cd ~ # OR just `cd` (Hint: If you don't give the driver a destination directory, it will automatically go to the home directory)"
   ]
  },
  {
   "cell_type": "markdown",
   "metadata": {},
   "source": [
    "- `mkdir`: Creates a new directory.\n"
   ]
  },
  {
   "cell_type": "code",
   "execution_count": 26,
   "metadata": {
    "vscode": {
     "languageId": "shellscript"
    }
   },
   "outputs": [
    {
     "name": "stdout",
     "output_type": "stream",
     "text": [
      "\u001b[1m\u001b[36mLecture\u001b[m\u001b[m  \u001b[1m\u001b[36mPractice\u001b[m\u001b[m \u001b[1m\u001b[36mtest\u001b[m\u001b[m\n"
     ]
    }
   ],
   "source": [
    "!mkdir test\n",
    "!ls"
   ]
  },
  {
   "cell_type": "markdown",
   "metadata": {},
   "source": [
    "- `touch`: Creates a new file (mainly in Unix-like systems)."
   ]
  },
  {
   "cell_type": "code",
   "execution_count": 27,
   "metadata": {
    "vscode": {
     "languageId": "shellscript"
    }
   },
   "outputs": [
    {
     "name": "stdout",
     "output_type": "stream",
     "text": [
      "\u001b[1m\u001b[36mLecture\u001b[m\u001b[m  \u001b[1m\u001b[36mPractice\u001b[m\u001b[m \u001b[1m\u001b[36mtest\u001b[m\u001b[m     test.txt\n"
     ]
    }
   ],
   "source": [
    "# Create a file\n",
    "!touch test.txt\n",
    "!ls"
   ]
  },
  {
   "cell_type": "markdown",
   "metadata": {},
   "source": [
    "### Advanced Commands\n",
    "\n",
    "- `clear`: Clears the terminal screen. (Not Applicable to use in Jupyter Notebook)\n",
    "- `history`: Shows previously executed commands. (Not Applicable to use in Jupyter Notebook)\n",
    "- `rm -rf`: Forcefully and recursively removes files or directories; use with caution.\n"
   ]
  },
  {
   "cell_type": "code",
   "execution_count": 29,
   "metadata": {
    "vscode": {
     "languageId": "shellscript"
    }
   },
   "outputs": [
    {
     "name": "stdout",
     "output_type": "stream",
     "text": [
      "\u001b[1m\u001b[36mLecture\u001b[m\u001b[m  \u001b[1m\u001b[36mPractice\u001b[m\u001b[m test.txt\n"
     ]
    }
   ],
   "source": [
    "# Remove the `test` directory we made earlier\n",
    "!rm -r test # -r for recursive, which means delete all files and subdirectories\n",
    "!ls"
   ]
  },
  {
   "cell_type": "code",
   "execution_count": null,
   "metadata": {
    "vscode": {
     "languageId": "shellscript"
    }
   },
   "outputs": [],
   "source": [
    "# Remove the `test.txt` file we made earlier\n",
    "!rm test.txt\n",
    "!ls"
   ]
  },
  {
   "cell_type": "markdown",
   "metadata": {},
   "source": [
    "### Viewing Hidden Files\n",
    "\n",
    "By default, the Terminal doesn't show hidden files. These files usually start with a dot (`.`), for example, `.gitignore`. To view hidden files, use `ls -a`.\n",
    "\n",
    "- `ls -a`: Lists all files and directories, including hidden ones."
   ]
  },
  {
   "cell_type": "markdown",
   "metadata": {},
   "source": [
    "## Conclusion\n",
    "\n",
    "Mastering the Terminal is a crucial software development skill for Windows and macOS users. This lecture provides foundational knowledge for efficient system navigation and command execution, preparing you for advanced programming tasks."
   ]
  }
 ],
 "metadata": {
  "kernelspec": {
   "display_name": "Python 3",
   "language": "python",
   "name": "python3"
  },
  "language_info": {
   "codemirror_mode": {
    "name": "ipython",
    "version": 3
   },
   "file_extension": ".py",
   "mimetype": "text/x-python",
   "name": "python",
   "nbconvert_exporter": "python",
   "pygments_lexer": "ipython3",
   "version": "3.11.3"
  }
 },
 "nbformat": 4,
 "nbformat_minor": 2
}
