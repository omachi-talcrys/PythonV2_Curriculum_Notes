{
 "cells": [
  {
   "cell_type": "markdown",
   "metadata": {},
   "source": [
    "# Variables Assignment\n"
   ]
  },
  {
   "cell_type": "markdown",
   "metadata": {},
   "source": [
    "## Exercise 1: Creating and Printing Variables\n",
    "\n",
    "Variables allow us to label data with a descriptive name. This makes our programs easier to understand and maintain.\n",
    "\n",
    "- **Task 1.1:** Create a variable named `my_name` and assign your name to it as a string. Then use the `print()` function to display the value of `my_name`.\n",
    "\n",
    "  Example:\n",
    "\n",
    "  ```python\n",
    "  my_name = \"Alice\"\n",
    "  print(my_name)\n",
    "  ```\n",
    "\n",
    "- **Task 1.2:** Now, create a variable `my_age` and assign your age to it as an integer. Use `print()` to display the value of `my_age`.\n"
   ]
  },
  {
   "cell_type": "code",
   "execution_count": 1,
   "metadata": {},
   "outputs": [
    {
     "name": "stdout",
     "output_type": "stream",
     "text": [
      "Chioma\n"
     ]
    }
   ],
   "source": [
    "# Task 1.1\n",
    "my_name = \"Chioma\"\n",
    "print(my_name)"
   ]
  },
  {
   "cell_type": "code",
   "execution_count": 11,
   "metadata": {},
   "outputs": [
    {
     "name": "stdout",
     "output_type": "stream",
     "text": [
      "23\n"
     ]
    }
   ],
   "source": [
    "# Task 1.2\n",
    "my_age = int(23)\n",
    "print(my_age)"
   ]
  },
  {
   "cell_type": "markdown",
   "metadata": {},
   "source": [
    "## Exercise 2: Variable Reassignment\n",
    "\n",
    "Learning about variable reassignment is important because it shows how variables can be dynamic and change their values throughout the execution of a program.\n",
    "\n",
    "- **Task 2.1:** Create a variable `x` with the initial value of `10`. Print `x`.\n",
    "- **Task 2.2:** Reassign `x` to a string value, say `\"Python\"`. Print `x` again to observe how its value has changed.\n"
   ]
  },
  {
   "cell_type": "code",
   "execution_count": 15,
   "metadata": {},
   "outputs": [
    {
     "name": "stdout",
     "output_type": "stream",
     "text": [
      "10\n"
     ]
    }
   ],
   "source": [
    "# Task 2.1\n",
    "x = 10\n",
    "print(x)\n"
   ]
  },
  {
   "cell_type": "code",
   "execution_count": 16,
   "metadata": {},
   "outputs": [
    {
     "name": "stdout",
     "output_type": "stream",
     "text": [
      "Python\n"
     ]
    }
   ],
   "source": [
    "# Task 2.2\n",
    "x = \"Python\"\n",
    "print(x)"
   ]
  },
  {
   "cell_type": "markdown",
   "metadata": {},
   "source": [
    "## Exercise 3: Swapping Variables\n",
    "\n",
    "Swapping the values of two variables is a common operation in many algorithms. Understanding how to do it efficiently is a key skill.\n",
    "\n",
    "- **Task 3.1:** Create two variables `a` and `b` with the values `3` and `7`, respectively. Print both variables.\n",
    "- **Task 3.2:** Swap the values of `a` and `b` without using a third variable and print them again. After swapping, `a` should have the value `7` and `b` should have the value `3`.\n"
   ]
  },
  {
   "cell_type": "code",
   "execution_count": 23,
   "metadata": {},
   "outputs": [
    {
     "name": "stdout",
     "output_type": "stream",
     "text": [
      "3,7\n"
     ]
    }
   ],
   "source": [
    "# Task 3.1\n",
    "a = 3\n",
    "b = 7\n",
    "print(a,b, sep = ',')"
   ]
  },
  {
   "cell_type": "code",
   "execution_count": 24,
   "metadata": {},
   "outputs": [
    {
     "name": "stdout",
     "output_type": "stream",
     "text": [
      "7,3\n"
     ]
    }
   ],
   "source": [
    "# Task 3.2\n",
    "a = 7\n",
    "b = 3\n",
    "print(a,b, sep = ',')"
   ]
  },
  {
   "cell_type": "markdown",
   "metadata": {},
   "source": [
    "## Exercise 4: Variable Names and Conventions\n",
    "\n",
    "Choosing the right variable name is crucial for writing clear and readable code. Python has certain rules and conventions for naming variables.\n",
    "\n",
    "- **Task 4.1:** [Error Finding] Attempt to create a variable named `1st_number` and assign any number to it. Print the variable. Observe the error message.\n",
    "- **Task 4.2:** Explain why the error occurred and correct the variable name according to Python's naming conventions.\n"
   ]
  },
  {
   "cell_type": "code",
   "execution_count": 26,
   "metadata": {},
   "outputs": [
    {
     "ename": "SyntaxError",
     "evalue": "invalid decimal literal (4021545338.py, line 3)",
     "output_type": "error",
     "traceback": [
      "\u001b[1;36m  Cell \u001b[1;32mIn[26], line 3\u001b[1;36m\u001b[0m\n\u001b[1;33m    1st_number = 8\u001b[0m\n\u001b[1;37m    ^\u001b[0m\n\u001b[1;31mSyntaxError\u001b[0m\u001b[1;31m:\u001b[0m invalid decimal literal\n"
     ]
    }
   ],
   "source": [
    "# Task 4.1\n",
    "\n",
    "1st_number = 8\n",
    "print(1st_variable)\n",
    "\n"
   ]
  },
  {
   "cell_type": "markdown",
   "metadata": {},
   "source": [
    "Task 4.2\n",
    "\n",
    "Your Explanation:\n"
   ]
  },
  {
   "cell_type": "code",
   "execution_count": 27,
   "metadata": {},
   "outputs": [
    {
     "name": "stdout",
     "output_type": "stream",
     "text": [
      "8\n"
     ]
    }
   ],
   "source": [
    "# Task 4.2 - Corrected Variable Name\n",
    "# it does not work becuase there can not be a number in the name of the variable, it should be:\n",
    "\n",
    "first_number = 8\n",
    "print(first_number)"
   ]
  },
  {
   "cell_type": "markdown",
   "metadata": {},
   "source": [
    "## Reflection\n",
    "\n",
    "After completing these exercises, think about the following questions and write a short paragraph reflecting on your answers:\n",
    "\n",
    "- Why is it important to give meaningful names to variables?\n",
    "- What did you learn about how variables work in Python?\n",
    "- How did the exercise on swapping variables help you understand the assignment and manipulation of values in Python?\n"
   ]
  },
  {
   "cell_type": "markdown",
   "metadata": {},
   "source": []
  }
 ],
 "metadata": {
  "kernelspec": {
   "display_name": "Python 3",
   "language": "python",
   "name": "python3"
  },
  "language_info": {
   "codemirror_mode": {
    "name": "ipython",
    "version": 3
   },
   "file_extension": ".py",
   "mimetype": "text/x-python",
   "name": "python",
   "nbconvert_exporter": "python",
   "pygments_lexer": "ipython3",
   "version": "3.12.6"
  }
 },
 "nbformat": 4,
 "nbformat_minor": 2
}
